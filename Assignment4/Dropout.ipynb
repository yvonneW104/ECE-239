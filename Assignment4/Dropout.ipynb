{
 "cells": [
  {
   "cell_type": "markdown",
   "metadata": {},
   "source": [
    "# Dropout\n",
    "\n",
    "In this notebook, you will implement dropout.  Then we will ask you to train a network with batchnorm and dropout, and acheive over 60% accuracy on CIFAR-10.\n",
    "\n",
    "CS231n has built a solid API for building these modular frameworks and training them, and we will use their very well implemented framework as opposed to \"reinventing the wheel.\"  This includes using their Solver, various utility functions, and their layer structure.  This also includes nndl.fc_net, nndl.layers, and nndl.layer_utils.  As in prior assignments, we thank Serena Yeung & Justin Johnson for permission to use code written for the CS 231n class (cs231n.stanford.edu).  "
   ]
  },
  {
   "cell_type": "code",
   "execution_count": 1,
   "metadata": {},
   "outputs": [],
   "source": [
    "## Import and setups\n",
    "\n",
    "import time\n",
    "import numpy as np\n",
    "import matplotlib.pyplot as plt\n",
    "from nndl.fc_net import *\n",
    "from nndl.layers import *\n",
    "from cs231n.data_utils import get_CIFAR10_data\n",
    "from cs231n.gradient_check import eval_numerical_gradient, eval_numerical_gradient_array\n",
    "from cs231n.solver import Solver\n",
    "import warnings\n",
    "warnings.filterwarnings(\"ignore\")\n",
    "\n",
    "\n",
    "%matplotlib inline\n",
    "plt.rcParams['figure.figsize'] = (10.0, 8.0) # set default size of plots\n",
    "plt.rcParams['image.interpolation'] = 'nearest'\n",
    "plt.rcParams['image.cmap'] = 'gray'\n",
    "\n",
    "# for auto-reloading external modules\n",
    "# see http://stackoverflow.com/questions/1907993/autoreload-of-modules-in-ipython\n",
    "%load_ext autoreload\n",
    "%autoreload 2\n",
    "\n",
    "def rel_error(x, y):\n",
    "  \"\"\" returns relative error \"\"\"\n",
    "  return np.max(np.abs(x - y) / (np.maximum(1e-8, np.abs(x) + np.abs(y))))"
   ]
  },
  {
   "cell_type": "code",
   "execution_count": 2,
   "metadata": {},
   "outputs": [
    {
     "name": "stdout",
     "output_type": "stream",
     "text": [
      "X_train: (49000, 3, 32, 32) \n",
      "y_train: (49000,) \n",
      "X_val: (1000, 3, 32, 32) \n",
      "y_val: (1000,) \n",
      "X_test: (1000, 3, 32, 32) \n",
      "y_test: (1000,) \n"
     ]
    }
   ],
   "source": [
    "# Load the (preprocessed) CIFAR10 data.\n",
    "\n",
    "data = get_CIFAR10_data()\n",
    "for k in data.keys():\n",
    "  print('{}: {} '.format(k, data[k].shape))"
   ]
  },
  {
   "cell_type": "markdown",
   "metadata": {},
   "source": [
    "## Dropout forward pass\n",
    "\n",
    "Implement the training and test time dropout forward pass, `dropout_forward`, in `nndl/layers.py`. After that, test your implementation by running the following cell."
   ]
  },
  {
   "cell_type": "code",
   "execution_count": 3,
   "metadata": {},
   "outputs": [
    {
     "name": "stdout",
     "output_type": "stream",
     "text": [
      "Running tests with p =  0.3\n",
      "Mean of input:  9.998017569776916\n",
      "Mean of train-time output:  10.016864314540582\n",
      "Mean of test-time output:  9.998017569776916\n",
      "Fraction of train-time output set to zero:  0.699532\n",
      "Fraction of test-time output set to zero:  0.0\n",
      "Running tests with p =  0.6\n",
      "Mean of input:  9.998017569776916\n",
      "Mean of train-time output:  9.986757186862985\n",
      "Mean of test-time output:  9.998017569776916\n",
      "Fraction of train-time output set to zero:  0.400736\n",
      "Fraction of test-time output set to zero:  0.0\n",
      "Running tests with p =  0.75\n",
      "Mean of input:  9.998017569776916\n",
      "Mean of train-time output:  10.016309552857056\n",
      "Mean of test-time output:  9.998017569776916\n",
      "Fraction of train-time output set to zero:  0.24872\n",
      "Fraction of test-time output set to zero:  0.0\n"
     ]
    }
   ],
   "source": [
    "x = np.random.randn(500, 500) + 10\n",
    "\n",
    "for p in [0.3, 0.6, 0.75]:\n",
    "    out, _ = dropout_forward(x, {'mode': 'train', 'p': p})\n",
    "    out_test, _ = dropout_forward(x, {'mode': 'test', 'p': p})\n",
    "\n",
    "    print('Running tests with p = ', p)\n",
    "    print('Mean of input: ', x.mean())\n",
    "    print('Mean of train-time output: ', out.mean())\n",
    "    print('Mean of test-time output: ', out_test.mean())\n",
    "    print('Fraction of train-time output set to zero: ', (out == 0).mean())\n",
    "    print('Fraction of test-time output set to zero: ', (out_test == 0).mean())"
   ]
  },
  {
   "cell_type": "markdown",
   "metadata": {},
   "source": [
    "## Dropout backward pass\n",
    "\n",
    "Implement the backward pass, `dropout_backward`, in `nndl/layers.py`.  After that, test your gradients by running the following cell:"
   ]
  },
  {
   "cell_type": "code",
   "execution_count": 4,
   "metadata": {},
   "outputs": [
    {
     "name": "stdout",
     "output_type": "stream",
     "text": [
      "dx relative error:  5.445608796345576e-11\n"
     ]
    }
   ],
   "source": [
    "x = np.random.randn(10, 10) + 10\n",
    "dout = np.random.randn(*x.shape)\n",
    "\n",
    "dropout_param = {'mode': 'train', 'p': 0.8, 'seed': 123}\n",
    "out, cache = dropout_forward(x, dropout_param)\n",
    "dx = dropout_backward(dout, cache)\n",
    "dx_num = eval_numerical_gradient_array(lambda xx: dropout_forward(xx, dropout_param)[0], x, dout)\n",
    "\n",
    "print('dx relative error: ', rel_error(dx, dx_num))"
   ]
  },
  {
   "cell_type": "markdown",
   "metadata": {},
   "source": [
    "## Implement a fully connected neural network with dropout layers\n",
    "\n",
    "Modify the `FullyConnectedNet()` class in `nndl/fc_net.py` to incorporate dropout.  A dropout layer should be incorporated after every ReLU layer.  Concretely, there shouldn't be a dropout at the output layer since there is no ReLU at the output layer. You will need to modify the class in the following areas:\n",
    "\n",
    "(1) In the forward pass, you will need to incorporate a dropout layer after every relu layer.\n",
    "\n",
    "(2) In the backward pass, you will need to incorporate a dropout backward pass layer.\n",
    "\n",
    "Check your implementation by running the following code.  Our W1 gradient relative error is on the order of 1e-6 (the largest of all the relative errors)."
   ]
  },
  {
   "cell_type": "code",
   "execution_count": 5,
   "metadata": {},
   "outputs": [
    {
     "name": "stdout",
     "output_type": "stream",
     "text": [
      "Running check with dropout =  0\n",
      "Initial loss:  2.3051948273987857\n",
      "W1 relative error: 2.527257539723101e-07\n",
      "W2 relative error: 1.5034484932141387e-05\n",
      "W3 relative error: 2.7534468139587135e-07\n",
      "b1 relative error: 2.936957506391204e-06\n",
      "b2 relative error: 5.0513403783986634e-08\n",
      "b3 relative error: 1.1740467838205477e-10\n",
      "\n",
      "\n",
      "Running check with dropout =  0.25\n",
      "Initial loss:  2.3126468345657742\n",
      "W1 relative error: 1.4838547524000723e-08\n",
      "W2 relative error: 2.3427840972570214e-10\n",
      "W3 relative error: 3.564454837143116e-08\n",
      "b1 relative error: 1.5292171650109135e-09\n",
      "b2 relative error: 1.8422701142067256e-10\n",
      "b3 relative error: 8.701800136729388e-11\n",
      "\n",
      "\n",
      "Running check with dropout =  0.5\n",
      "Initial loss:  2.302437587710995\n",
      "W1 relative error: 4.553387977754106e-08\n",
      "W2 relative error: 2.9742180754280448e-08\n",
      "W3 relative error: 4.3413246357224405e-07\n",
      "b1 relative error: 1.8724629873465624e-08\n",
      "b2 relative error: 5.045591023705428e-09\n",
      "b3 relative error: 8.009887154529434e-11\n",
      "\n",
      "\n"
     ]
    }
   ],
   "source": [
    "N, D, H1, H2, C = 2, 15, 20, 30, 10\n",
    "X = np.random.randn(N, D)\n",
    "y = np.random.randint(C, size=(N,))\n",
    "\n",
    "for dropout in [0, 0.25, 0.5]:\n",
    "    print('Running check with dropout = ', dropout)\n",
    "    model = FullyConnectedNet([H1, H2], input_dim=D, num_classes=C,\n",
    "                            weight_scale=5e-2, dtype=np.float64,\n",
    "                            dropout=dropout, seed=123)\n",
    "\n",
    "    loss, grads = model.loss(X, y)\n",
    "    print('Initial loss: ', loss)\n",
    "\n",
    "    for name in sorted(grads):\n",
    "        f = lambda _: model.loss(X, y)[0]\n",
    "        grad_num = eval_numerical_gradient(f, model.params[name], verbose=False, h=1e-5)\n",
    "        print('{} relative error: {}'.format(name, rel_error(grad_num, grads[name])))\n",
    "    print('\\n')"
   ]
  },
  {
   "cell_type": "markdown",
   "metadata": {},
   "source": [
    "## Dropout as a regularizer\n",
    "\n",
    "In class, we claimed that dropout acts as a regularizer by effectively bagging.  To check this, we will train two small networks, one with dropout and one without dropout.  "
   ]
  },
  {
   "cell_type": "code",
   "execution_count": 6,
   "metadata": {},
   "outputs": [
    {
     "name": "stdout",
     "output_type": "stream",
     "text": [
      "(Iteration 1 / 125) loss: 2.300804\n",
      "(Epoch 0 / 25) train acc: 0.220000; val_acc: 0.168000\n",
      "(Epoch 1 / 25) train acc: 0.188000; val_acc: 0.147000\n",
      "(Epoch 2 / 25) train acc: 0.266000; val_acc: 0.200000\n",
      "(Epoch 3 / 25) train acc: 0.338000; val_acc: 0.262000\n",
      "(Epoch 4 / 25) train acc: 0.378000; val_acc: 0.278000\n",
      "(Epoch 5 / 25) train acc: 0.428000; val_acc: 0.297000\n",
      "(Epoch 6 / 25) train acc: 0.468000; val_acc: 0.323000\n",
      "(Epoch 7 / 25) train acc: 0.494000; val_acc: 0.287000\n",
      "(Epoch 8 / 25) train acc: 0.566000; val_acc: 0.328000\n",
      "(Epoch 9 / 25) train acc: 0.572000; val_acc: 0.322000\n",
      "(Epoch 10 / 25) train acc: 0.622000; val_acc: 0.324000\n",
      "(Epoch 11 / 25) train acc: 0.670000; val_acc: 0.279000\n",
      "(Epoch 12 / 25) train acc: 0.710000; val_acc: 0.338000\n",
      "(Epoch 13 / 25) train acc: 0.746000; val_acc: 0.319000\n",
      "(Epoch 14 / 25) train acc: 0.792000; val_acc: 0.307000\n",
      "(Epoch 15 / 25) train acc: 0.834000; val_acc: 0.297000\n",
      "(Epoch 16 / 25) train acc: 0.876000; val_acc: 0.327000\n",
      "(Epoch 17 / 25) train acc: 0.886000; val_acc: 0.320000\n",
      "(Epoch 18 / 25) train acc: 0.918000; val_acc: 0.314000\n",
      "(Epoch 19 / 25) train acc: 0.922000; val_acc: 0.290000\n",
      "(Epoch 20 / 25) train acc: 0.944000; val_acc: 0.306000\n",
      "(Iteration 101 / 125) loss: 0.156105\n",
      "(Epoch 21 / 25) train acc: 0.968000; val_acc: 0.302000\n",
      "(Epoch 22 / 25) train acc: 0.978000; val_acc: 0.302000\n",
      "(Epoch 23 / 25) train acc: 0.976000; val_acc: 0.289000\n",
      "(Epoch 24 / 25) train acc: 0.986000; val_acc: 0.285000\n",
      "(Epoch 25 / 25) train acc: 0.978000; val_acc: 0.311000\n",
      "(Iteration 1 / 125) loss: 2.301328\n",
      "(Epoch 0 / 25) train acc: 0.154000; val_acc: 0.143000\n",
      "(Epoch 1 / 25) train acc: 0.214000; val_acc: 0.195000\n",
      "(Epoch 2 / 25) train acc: 0.252000; val_acc: 0.216000\n",
      "(Epoch 3 / 25) train acc: 0.276000; val_acc: 0.200000\n",
      "(Epoch 4 / 25) train acc: 0.308000; val_acc: 0.254000\n",
      "(Epoch 5 / 25) train acc: 0.316000; val_acc: 0.241000\n",
      "(Epoch 6 / 25) train acc: 0.322000; val_acc: 0.282000\n",
      "(Epoch 7 / 25) train acc: 0.354000; val_acc: 0.273000\n",
      "(Epoch 8 / 25) train acc: 0.364000; val_acc: 0.276000\n",
      "(Epoch 9 / 25) train acc: 0.408000; val_acc: 0.282000\n",
      "(Epoch 10 / 25) train acc: 0.454000; val_acc: 0.302000\n",
      "(Epoch 11 / 25) train acc: 0.472000; val_acc: 0.297000\n",
      "(Epoch 12 / 25) train acc: 0.498000; val_acc: 0.318000\n",
      "(Epoch 13 / 25) train acc: 0.510000; val_acc: 0.309000\n",
      "(Epoch 14 / 25) train acc: 0.534000; val_acc: 0.315000\n",
      "(Epoch 15 / 25) train acc: 0.546000; val_acc: 0.331000\n",
      "(Epoch 16 / 25) train acc: 0.584000; val_acc: 0.302000\n",
      "(Epoch 17 / 25) train acc: 0.626000; val_acc: 0.332000\n",
      "(Epoch 18 / 25) train acc: 0.614000; val_acc: 0.328000\n",
      "(Epoch 19 / 25) train acc: 0.626000; val_acc: 0.324000\n",
      "(Epoch 20 / 25) train acc: 0.656000; val_acc: 0.336000\n",
      "(Iteration 101 / 125) loss: 1.297295\n",
      "(Epoch 21 / 25) train acc: 0.670000; val_acc: 0.325000\n",
      "(Epoch 22 / 25) train acc: 0.678000; val_acc: 0.328000\n",
      "(Epoch 23 / 25) train acc: 0.724000; val_acc: 0.345000\n",
      "(Epoch 24 / 25) train acc: 0.732000; val_acc: 0.327000\n",
      "(Epoch 25 / 25) train acc: 0.766000; val_acc: 0.338000\n"
     ]
    }
   ],
   "source": [
    "# Train two identical nets, one with dropout and one without\n",
    "\n",
    "num_train = 500\n",
    "small_data = {\n",
    "  'X_train': data['X_train'][:num_train],\n",
    "  'y_train': data['y_train'][:num_train],\n",
    "  'X_val': data['X_val'],\n",
    "  'y_val': data['y_val'],\n",
    "}\n",
    "\n",
    "solvers = {}\n",
    "dropout_choices = [0, 0.6]\n",
    "for dropout in dropout_choices:\n",
    "    model = FullyConnectedNet([100, 100, 100], dropout=dropout)\n",
    "\n",
    "    solver = Solver(model, small_data,\n",
    "                  num_epochs=25, batch_size=100,\n",
    "                  update_rule='adam',\n",
    "                  optim_config={\n",
    "                    'learning_rate': 5e-4,\n",
    "                  },\n",
    "                  verbose=True, print_every=100)\n",
    "    solver.train()\n",
    "    solvers[dropout] = solver"
   ]
  },
  {
   "cell_type": "code",
   "execution_count": 7,
   "metadata": {},
   "outputs": [
    {
     "data": {
      "image/png": "[encoded data removed]",
      "text/plain": [
       "<matplotlib.figure.Figure at 0x7f0bbc344240>"
      ]
     },
     "metadata": {},
     "output_type": "display_data"
    }
   ],
   "source": [
    "# Plot train and validation accuracies of the two models\n",
    "\n",
    "train_accs = []\n",
    "val_accs = []\n",
    "for dropout in dropout_choices:\n",
    "    solver = solvers[dropout]\n",
    "    train_accs.append(solver.train_acc_history[-1])\n",
    "    val_accs.append(solver.val_acc_history[-1])\n",
    "\n",
    "plt.subplot(3, 1, 1)\n",
    "for dropout in dropout_choices:\n",
    "    plt.plot(solvers[dropout].train_acc_history, 'o', label='%.2f dropout' % dropout)\n",
    "plt.title('Train accuracy')\n",
    "plt.xlabel('Epoch')\n",
    "plt.ylabel('Accuracy')\n",
    "plt.legend(ncol=2, loc='lower right')\n",
    "  \n",
    "plt.subplot(3, 1, 2)\n",
    "for dropout in dropout_choices:\n",
    "    plt.plot(solvers[dropout].val_acc_history, 'o', label='%.2f dropout' % dropout)\n",
    "plt.title('Val accuracy')\n",
    "plt.xlabel('Epoch')\n",
    "plt.ylabel('Accuracy')\n",
    "plt.legend(ncol=2, loc='lower right')\n",
    "\n",
    "plt.gcf().set_size_inches(15, 15)\n",
    "plt.show()"
   ]
  },
  {
   "cell_type": "markdown",
   "metadata": {},
   "source": [
    "## Question\n",
    "\n",
    "Based off the results of this experiment, is dropout performing regularization?  Explain your answer."
   ]
  },
  {
   "cell_type": "markdown",
   "metadata": {},
   "source": [
    "## Answer:\n",
    "\n",
    "Dropout is performing regularization. Based on the figures above, the validation accuracies with and without dropout are similar, but the training accuracy with dropout is much higher than that of wihout dropout. This means that the model without dropout is overfitting. Thus, dropout is performing regularization."
   ]
  },
  {
   "cell_type": "markdown",
   "metadata": {},
   "source": [
    "## Final part of the assignment\n",
    "\n",
    "Get over 60% validation accuracy on CIFAR-10 by using the layers you have implemented.  You will be graded according to the following equation:\n",
    "\n",
    "min(floor((X - 32%)) / 28%, 1) \n",
    "where if you get 60% or higher validation accuracy, you get full points."
   ]
  },
  {
   "cell_type": "code",
   "execution_count": 30,
   "metadata": {
    "scrolled": false
   },
   "outputs": [
    {
     "name": "stdout",
     "output_type": "stream",
     "text": [
      "(Iteration 1 / 1410) loss: 3.187839\n",
      "(Epoch 0 / 30) train acc: 0.100000; val_acc: 0.117000\n",
      "(Epoch 1 / 30) train acc: 0.366000; val_acc: 0.343000\n",
      "(Epoch 2 / 30) train acc: 0.365000; val_acc: 0.358000\n",
      "(Epoch 3 / 30) train acc: 0.361000; val_acc: 0.397000\n",
      "(Epoch 4 / 30) train acc: 0.369000; val_acc: 0.383000\n",
      "(Iteration 201 / 1410) loss: 2.381453\n",
      "(Epoch 5 / 30) train acc: 0.394000; val_acc: 0.395000\n",
      "(Epoch 6 / 30) train acc: 0.396000; val_acc: 0.424000\n",
      "(Epoch 7 / 30) train acc: 0.428000; val_acc: 0.424000\n",
      "(Epoch 8 / 30) train acc: 0.377000; val_acc: 0.396000\n",
      "(Iteration 401 / 1410) loss: 2.167482\n",
      "(Epoch 9 / 30) train acc: 0.407000; val_acc: 0.412000\n",
      "(Epoch 10 / 30) train acc: 0.410000; val_acc: 0.419000\n",
      "(Epoch 11 / 30) train acc: 0.425000; val_acc: 0.440000\n",
      "(Epoch 12 / 30) train acc: 0.449000; val_acc: 0.430000\n",
      "(Iteration 601 / 1410) loss: 2.008776\n",
      "(Epoch 13 / 30) train acc: 0.456000; val_acc: 0.455000\n",
      "(Epoch 14 / 30) train acc: 0.461000; val_acc: 0.447000\n",
      "(Epoch 15 / 30) train acc: 0.485000; val_acc: 0.460000\n",
      "(Epoch 16 / 30) train acc: 0.475000; val_acc: 0.457000\n",
      "(Epoch 17 / 30) train acc: 0.448000; val_acc: 0.477000\n",
      "(Iteration 801 / 1410) loss: 1.960927\n",
      "(Epoch 18 / 30) train acc: 0.438000; val_acc: 0.481000\n",
      "(Epoch 19 / 30) train acc: 0.518000; val_acc: 0.464000\n",
      "(Epoch 20 / 30) train acc: 0.488000; val_acc: 0.491000\n",
      "(Epoch 21 / 30) train acc: 0.507000; val_acc: 0.486000\n",
      "(Iteration 1001 / 1410) loss: 1.733085\n",
      "(Epoch 22 / 30) train acc: 0.502000; val_acc: 0.502000\n",
      "(Epoch 23 / 30) train acc: 0.557000; val_acc: 0.483000\n",
      "(Epoch 24 / 30) train acc: 0.530000; val_acc: 0.489000\n",
      "(Epoch 25 / 30) train acc: 0.534000; val_acc: 0.505000\n",
      "(Iteration 1201 / 1410) loss: 1.648808\n",
      "(Epoch 26 / 30) train acc: 0.560000; val_acc: 0.499000\n",
      "(Epoch 27 / 30) train acc: 0.536000; val_acc: 0.515000\n",
      "(Epoch 28 / 30) train acc: 0.541000; val_acc: 0.522000\n",
      "(Epoch 29 / 30) train acc: 0.568000; val_acc: 0.528000\n",
      "(Iteration 1401 / 1410) loss: 1.541599\n",
      "(Epoch 30 / 30) train acc: 0.576000; val_acc: 0.507000\n",
      "(Iteration 1 / 1410) loss: 1.618520\n",
      "(Epoch 30 / 30) train acc: 0.589000; val_acc: 0.534000\n",
      "(Epoch 31 / 30) train acc: 0.598000; val_acc: 0.531000\n",
      "(Epoch 32 / 30) train acc: 0.605000; val_acc: 0.530000\n",
      "(Epoch 33 / 30) train acc: 0.590000; val_acc: 0.535000\n",
      "(Epoch 34 / 30) train acc: 0.580000; val_acc: 0.545000\n",
      "(Iteration 201 / 1410) loss: 1.495209\n",
      "(Epoch 35 / 30) train acc: 0.620000; val_acc: 0.545000\n",
      "(Epoch 36 / 30) train acc: 0.631000; val_acc: 0.538000\n",
      "(Epoch 37 / 30) train acc: 0.619000; val_acc: 0.557000\n",
      "(Epoch 38 / 30) train acc: 0.615000; val_acc: 0.557000\n",
      "(Iteration 401 / 1410) loss: 1.443882\n",
      "(Epoch 39 / 30) train acc: 0.643000; val_acc: 0.552000\n",
      "(Epoch 40 / 30) train acc: 0.635000; val_acc: 0.564000\n",
      "(Epoch 41 / 30) train acc: 0.661000; val_acc: 0.556000\n",
      "(Epoch 42 / 30) train acc: 0.648000; val_acc: 0.562000\n",
      "(Iteration 601 / 1410) loss: 1.266384\n",
      "(Epoch 43 / 30) train acc: 0.656000; val_acc: 0.555000\n",
      "(Epoch 44 / 30) train acc: 0.666000; val_acc: 0.572000\n",
      "(Epoch 45 / 30) train acc: 0.695000; val_acc: 0.566000\n",
      "(Epoch 46 / 30) train acc: 0.684000; val_acc: 0.582000\n",
      "(Epoch 47 / 30) train acc: 0.685000; val_acc: 0.577000\n",
      "(Iteration 801 / 1410) loss: 1.215683\n",
      "(Epoch 48 / 30) train acc: 0.715000; val_acc: 0.580000\n",
      "(Epoch 49 / 30) train acc: 0.684000; val_acc: 0.589000\n",
      "(Epoch 50 / 30) train acc: 0.705000; val_acc: 0.593000\n",
      "(Epoch 51 / 30) train acc: 0.718000; val_acc: 0.583000\n",
      "(Iteration 1001 / 1410) loss: 1.207289\n",
      "(Epoch 52 / 30) train acc: 0.739000; val_acc: 0.589000\n",
      "(Epoch 53 / 30) train acc: 0.732000; val_acc: 0.585000\n",
      "(Epoch 54 / 30) train acc: 0.713000; val_acc: 0.599000\n",
      "(Epoch 55 / 30) train acc: 0.739000; val_acc: 0.604000\n",
      "(Iteration 1201 / 1410) loss: 1.061186\n",
      "(Epoch 56 / 30) train acc: 0.788000; val_acc: 0.594000\n",
      "(Epoch 57 / 30) train acc: 0.772000; val_acc: 0.598000\n",
      "(Epoch 58 / 30) train acc: 0.814000; val_acc: 0.599000\n",
      "(Epoch 59 / 30) train acc: 0.760000; val_acc: 0.599000\n",
      "(Iteration 1401 / 1410) loss: 1.023205\n",
      "(Epoch 60 / 30) train acc: 0.768000; val_acc: 0.588000\n",
      "val acc: 0.616\n",
      "test acc: 0.574\n"
     ]
    },
    {
     "data": {
      "image/png": "[encoded data removed]",
      "text/plain": [
       "<matplotlib.figure.Figure at 0x7f0b807e0198>"
      ]
     },
     "metadata": {},
     "output_type": "display_data"
    }
   ],
   "source": [
    "# ================================================================ #\n",
    "# YOUR CODE HERE:\n",
    "#   Implement a FC-net that achieves at least 60% validation accuracy\n",
    "#   on CIFAR-10.\n",
    "# ================================================================ #\n",
    "\n",
    "input_size = 32 * 32 * 3\n",
    "hidden_dim = [512, 256, 128, 128]\n",
    "weight_scale = 0.01\n",
    "num_class = 10\n",
    "dropout = 0.8\n",
    "\n",
    "model = FullyConnectedNet(hidden_dims=hidden_dim, input_dim=input_size, num_classes=num_class,\n",
    "                            weight_scale=weight_scale, dtype=np.float64,\n",
    "                            dropout=dropout, use_batchnorm=True, reg=1e-2)\n",
    "solvers = {}\n",
    "\n",
    "solver = Solver(model, data,\n",
    "              num_epochs=30, batch_size=1024,\n",
    "              update_rule='adam', lr_decay=0.9, \n",
    "              optim_config={\n",
    "                'learning_rate':1e-2,\n",
    "              },\n",
    "              verbose=True, print_every=200)\n",
    "solver.train()\n",
    "\n",
    "solver.optim_config = {'learning_rate':2e-4}\n",
    "solver.lr_decay=0.95\n",
    "solver.train()\n",
    "\n",
    "plt.plot(solver.loss_history)\n",
    "\n",
    "y_val_pred = np.argmax(model.loss(data['X_val']), axis = 1)\n",
    "val_acc = np.mean(y_val_pred == data['y_val'])\n",
    "y_test_pred = np.argmax(model.loss(data['X_test']), axis = 1)\n",
    "test_acc = np.mean(y_test_pred == data['y_test'])\n",
    "print('val acc: {}'.format(val_acc))\n",
    "print('test acc: {}'.format(test_acc))\n",
    "\n",
    "# ================================================================ #\n",
    "# END YOUR CODE HERE\n",
    "# ================================================================ #\n"
   ]
  },
  {
   "cell_type": "code",
   "execution_count": null,
   "metadata": {},
   "outputs": [],
   "source": []
  }
 ],
 "metadata": {
  "kernelspec": {
   "display_name": "Python 3",
   "language": "python",
   "name": "python3"
  },
  "language_info": {
   "codemirror_mode": {
    "name": "ipython",
    "version": 3
   },
   "file_extension": ".py",
   "mimetype": "text/x-python",
   "name": "python",
   "nbconvert_exporter": "python",
   "pygments_lexer": "ipython3",
   "version": "3.6.3"
  }
 },
 "nbformat": 4,
 "nbformat_minor": 2
}
