{
 "cells": [
  {
   "cell_type": "markdown",
   "metadata": {},
   "source": [
    "# Convolutional neural networks\n",
    "\n",
    "In this notebook, we'll put together our convolutional layers to implement a 3-layer CNN.  Then, we'll ask you to implement a CNN that can achieve > 65% validation error on CIFAR-10.\n",
    "\n",
    "CS231n has built a solid API for building these modular frameworks and training them, and we will use their very well implemented framework as opposed to \"reinventing the wheel.\"  This includes using their Solver, various utility functions, their layer structure, and their implementation of fast CNN layers.  This also includes nndl.fc_net, nndl.layers, and nndl.layer_utils.  As in prior assignments, we thank Serena Yeung & Justin Johnson for permission to use code written for the CS 231n class (cs231n.stanford.edu).  \n",
    "\n",
    "If you have not completed the Spatial BatchNorm Notebook, please see the following description from that notebook:\n",
    "\n",
    "Please copy and paste your prior implemented code from HW #4 to start this assignment.  If you did not correctly implement the layers in HW #4, you may collaborate with a classmate to use their layer implementations from HW #4.  You may also visit TA or Prof OH to correct your implementation.  \n",
    "\n",
    "You'll want to copy and paste from HW #4:\n",
    "    - layers.py for your FC network layers, as well as batchnorm and dropout.\n",
    "    - layer_utils.py for your combined FC network layers.\n",
    "    - optim.py for your optimizers.\n",
    "\n",
    "Be sure to place these in the `nndl/` directory so they're imported correctly.  Note, as announced in class, we will not be releasing our solutions."
   ]
  },
  {
   "cell_type": "code",
   "execution_count": 1,
   "metadata": {},
   "outputs": [],
   "source": [
    "# As usual, a bit of setup\n",
    "\n",
    "import numpy as np\n",
    "import matplotlib.pyplot as plt\n",
    "from nndl.cnn import *\n",
    "from cs231n.data_utils import get_CIFAR10_data\n",
    "from cs231n.gradient_check import eval_numerical_gradient_array, eval_numerical_gradient\n",
    "from nndl.layers import *\n",
    "from nndl.conv_layers import *\n",
    "from cs231n.fast_layers import *\n",
    "from cs231n.solver import Solver\n",
    "\n",
    "%matplotlib inline\n",
    "plt.rcParams['figure.figsize'] = (10.0, 8.0) # set default size of plots\n",
    "plt.rcParams['image.interpolation'] = 'nearest'\n",
    "plt.rcParams['image.cmap'] = 'gray'\n",
    "\n",
    "# for auto-reloading external modules\n",
    "# see http://stackoverflow.com/questions/1907993/autoreload-of-modules-in-ipython\n",
    "%load_ext autoreload\n",
    "%autoreload 2\n",
    "\n",
    "def rel_error(x, y):\n",
    "  \"\"\" returns relative error \"\"\"\n",
    "  return np.max(np.abs(x - y) / (np.maximum(1e-8, np.abs(x) + np.abs(y))))"
   ]
  },
  {
   "cell_type": "code",
   "execution_count": 2,
   "metadata": {},
   "outputs": [
    {
     "name": "stdout",
     "output_type": "stream",
     "text": [
      "X_train: (49000, 3, 32, 32) \n",
      "y_train: (49000,) \n",
      "X_val: (1000, 3, 32, 32) \n",
      "y_val: (1000,) \n",
      "X_test: (1000, 3, 32, 32) \n",
      "y_test: (1000,) \n"
     ]
    }
   ],
   "source": [
    "# Load the (preprocessed) CIFAR10 data.\n",
    "\n",
    "data = get_CIFAR10_data()\n",
    "for k in data.keys():\n",
    "  print('{}: {} '.format(k, data[k].shape))"
   ]
  },
  {
   "cell_type": "markdown",
   "metadata": {},
   "source": [
    "## Three layer CNN\n",
    "\n",
    "In this notebook, you will implement a three layer CNN.  The `ThreeLayerConvNet` class is in `nndl/cnn.py`.  You'll need to modify that code for this section, including the initialization, as well as the calculation of the loss and gradients.  You should be able to use the building blocks you have either earlier coded or that we have provided.  Be sure to use the fast layers.\n",
    "\n",
    "The architecture of this CNN will be:\n",
    "\n",
    "conv - relu - 2x2 max pool - affine - relu - affine - softmax\n",
    "\n",
    "We won't use batchnorm yet.  You've also done enough of these to know how to debug; use the cells below.\n",
    "\n",
    "Note: As we are implementing several layers CNN networks. The gradient error can be expected for the `eval_numerical_gradient()` function. If your `W1 max relative error` and `W2 max relative error` are around or below 0.01, they should be acceptable. Other errors should be less than 1e-5. "
   ]
  },
  {
   "cell_type": "code",
   "execution_count": 3,
   "metadata": {},
   "outputs": [
    {
     "name": "stdout",
     "output_type": "stream",
     "text": [
      "W1 max relative error: 0.00021193836026830074\n",
      "W2 max relative error: 0.009555694741586117\n",
      "W3 max relative error: 1.7300615541188733e-05\n",
      "b1 max relative error: 1.9499883695541626e-05\n",
      "b2 max relative error: 1.4186966996681572e-06\n",
      "b3 max relative error: 1.786165766604827e-09\n"
     ]
    }
   ],
   "source": [
    "num_inputs = 2\n",
    "input_dim = (3, 16, 16)\n",
    "reg = 0.0\n",
    "num_classes = 10\n",
    "X = np.random.randn(num_inputs, *input_dim)\n",
    "y = np.random.randint(num_classes, size=num_inputs)\n",
    "\n",
    "model = ThreeLayerConvNet(num_filters=3, filter_size=3,\n",
    "                          input_dim=input_dim, hidden_dim=7,\n",
    "                          dtype=np.float64)\n",
    "loss, grads = model.loss(X, y)\n",
    "for param_name in sorted(grads):\n",
    "    f = lambda _: model.loss(X, y)[0]\n",
    "    param_grad_num = eval_numerical_gradient(f, model.params[param_name], verbose=False, h=1e-6)\n",
    "    e = rel_error(param_grad_num, grads[param_name])\n",
    "    print('{} max relative error: {}'.format(param_name, rel_error(param_grad_num, grads[param_name])))"
   ]
  },
  {
   "cell_type": "markdown",
   "metadata": {},
   "source": [
    "### Overfit small dataset\n",
    "\n",
    "To check your CNN implementation, let's overfit a small dataset."
   ]
  },
  {
   "cell_type": "code",
   "execution_count": 8,
   "metadata": {},
   "outputs": [
    {
     "name": "stdout",
     "output_type": "stream",
     "text": [
      "(Iteration 1 / 20) loss: 2.297011\n",
      "(Epoch 0 / 10) train acc: 0.160000; val_acc: 0.119000\n",
      "(Epoch 1 / 10) train acc: 0.150000; val_acc: 0.081000\n",
      "(Iteration 3 / 20) loss: 2.435850\n",
      "(Epoch 2 / 10) train acc: 0.220000; val_acc: 0.123000\n",
      "(Iteration 5 / 20) loss: 2.242574\n",
      "(Epoch 3 / 10) train acc: 0.350000; val_acc: 0.142000\n",
      "(Iteration 7 / 20) loss: 2.078006\n",
      "(Epoch 4 / 10) train acc: 0.470000; val_acc: 0.150000\n",
      "(Iteration 9 / 20) loss: 1.569570\n",
      "(Epoch 5 / 10) train acc: 0.610000; val_acc: 0.169000\n",
      "(Iteration 11 / 20) loss: 1.420430\n",
      "(Epoch 6 / 10) train acc: 0.530000; val_acc: 0.171000\n",
      "(Iteration 13 / 20) loss: 1.380936\n",
      "(Epoch 7 / 10) train acc: 0.680000; val_acc: 0.179000\n",
      "(Iteration 15 / 20) loss: 1.204069\n",
      "(Epoch 8 / 10) train acc: 0.690000; val_acc: 0.222000\n",
      "(Iteration 17 / 20) loss: 0.862301\n",
      "(Epoch 9 / 10) train acc: 0.810000; val_acc: 0.225000\n",
      "(Iteration 19 / 20) loss: 0.818723\n",
      "(Epoch 10 / 10) train acc: 0.880000; val_acc: 0.209000\n"
     ]
    }
   ],
   "source": [
    "num_train = 100\n",
    "small_data = {\n",
    "  'X_train': data['X_train'][:num_train],\n",
    "  'y_train': data['y_train'][:num_train],\n",
    "  'X_val': data['X_val'],\n",
    "  'y_val': data['y_val'],\n",
    "}\n",
    "\n",
    "model = ThreeLayerConvNet(weight_scale=1e-2)\n",
    "\n",
    "solver = Solver(model, small_data,\n",
    "                num_epochs=10, batch_size=50,\n",
    "                update_rule='adam',\n",
    "                optim_config={\n",
    "                  'learning_rate': 1e-3,\n",
    "                },\n",
    "                verbose=True, print_every=2)\n",
    "solver.train()"
   ]
  },
  {
   "cell_type": "code",
   "execution_count": 9,
   "metadata": {},
   "outputs": [
    {
     "data": {
      "image/png": "[encoded data removed]",
      "text/plain": [
       "<matplotlib.figure.Figure at 0x7f21ad74ca20>"
      ]
     },
     "metadata": {},
     "output_type": "display_data"
    }
   ],
   "source": [
    "plt.subplot(2, 1, 1)\n",
    "plt.plot(solver.loss_history, 'o')\n",
    "plt.xlabel('iteration')\n",
    "plt.ylabel('loss')\n",
    "\n",
    "plt.subplot(2, 1, 2)\n",
    "plt.plot(solver.train_acc_history, '-o')\n",
    "plt.plot(solver.val_acc_history, '-o')\n",
    "plt.legend(['train', 'val'], loc='upper left')\n",
    "plt.xlabel('epoch')\n",
    "plt.ylabel('accuracy')\n",
    "plt.show()"
   ]
  },
  {
   "cell_type": "markdown",
   "metadata": {},
   "source": [
    "## Train the network\n",
    "\n",
    "Now we train the 3 layer CNN on CIFAR-10 and assess its accuracy."
   ]
  },
  {
   "cell_type": "code",
   "execution_count": 10,
   "metadata": {
    "scrolled": false
   },
   "outputs": [
    {
     "name": "stdout",
     "output_type": "stream",
     "text": [
      "(Iteration 1 / 191) loss: 2.304693\n",
      "(Epoch 0 / 1) train acc: 0.105000; val_acc: 0.098000\n",
      "(Iteration 21 / 191) loss: 1.983926\n",
      "(Iteration 41 / 191) loss: 1.570173\n",
      "(Iteration 61 / 191) loss: 1.640788\n",
      "(Iteration 81 / 191) loss: 1.582869\n",
      "(Iteration 101 / 191) loss: 1.626153\n",
      "(Iteration 121 / 191) loss: 1.503515\n",
      "(Iteration 141 / 191) loss: 1.342651\n",
      "(Iteration 161 / 191) loss: 1.425729\n",
      "(Iteration 181 / 191) loss: 1.452765\n",
      "(Epoch 1 / 1) train acc: 0.525000; val_acc: 0.523000\n"
     ]
    }
   ],
   "source": [
    "model = ThreeLayerConvNet(weight_scale=0.001, hidden_dim=500, reg=0.001)\n",
    "\n",
    "solver = Solver(model, data,\n",
    "                num_epochs=1, batch_size=256,\n",
    "                update_rule='adam',\n",
    "                optim_config={\n",
    "                  'learning_rate': 1e-3,\n",
    "                },\n",
    "                verbose=True, print_every=20)\n",
    "solver.train()"
   ]
  },
  {
   "cell_type": "markdown",
   "metadata": {},
   "source": [
    "# Get > 65% validation accuracy on CIFAR-10.\n",
    "\n",
    "In the last part of the assignment, we'll now ask you to train a CNN to get better than 65% validation accuracy on CIFAR-10.\n",
    "\n",
    "### Things you should try:\n",
    "- Filter size: Above we used 7x7; but VGGNet and onwards showed stacks of 3x3 filters are good.  \n",
    "- Number of filters: Above we used 32 filters. Do more or fewer do better?\n",
    "- Batch normalization: Try adding spatial batch normalization after convolution layers and vanilla batch normalization aafter affine layers. Do your networks train faster?\n",
    "- Network architecture: Can a deeper CNN do better?  Consider these architectures:\n",
    "    - [conv-relu-pool]xN - conv - relu - [affine]xM - [softmax or SVM]\n",
    "    - [conv-relu-pool]XN - [affine]XM - [softmax or SVM]\n",
    "    - [conv-relu-conv-relu-pool]xN - [affine]xM - [softmax or SVM]\n",
    "\n",
    "### Tips for training\n",
    "For each network architecture that you try, you should tune the learning rate and regularization strength. When doing this there are a couple important things to keep in mind:\n",
    "\n",
    "- If the parameters are working well, you should see improvement within a few hundred iterations\n",
    "- Remember the coarse-to-fine approach for hyperparameter tuning: start by testing a large range of hyperparameters for just a few training iterations to find the combinations of parameters that are working at all.\n",
    "- Once you have found some sets of parameters that seem to work, search more finely around these parameters. You may need to train for more epochs."
   ]
  },
  {
   "cell_type": "code",
   "execution_count": 11,
   "metadata": {
    "scrolled": false
   },
   "outputs": [
    {
     "name": "stdout",
     "output_type": "stream",
     "text": [
      "(Iteration 1 / 573) loss: 2.304658\n",
      "(Epoch 0 / 3) train acc: 0.084000; val_acc: 0.119000\n",
      "(Iteration 101 / 573) loss: 1.528920\n",
      "(Epoch 1 / 3) train acc: 0.522000; val_acc: 0.525000\n",
      "(Iteration 201 / 573) loss: 1.367531\n",
      "(Iteration 301 / 573) loss: 1.229033\n",
      "(Epoch 2 / 3) train acc: 0.586000; val_acc: 0.593000\n",
      "(Iteration 401 / 573) loss: 1.204930\n",
      "(Iteration 501 / 573) loss: 1.187791\n",
      "(Epoch 3 / 3) train acc: 0.648000; val_acc: 0.610000\n",
      "(Iteration 1 / 573) loss: 1.054550\n",
      "(Epoch 3 / 3) train acc: 0.633000; val_acc: 0.607000\n",
      "(Iteration 101 / 573) loss: 1.113796\n",
      "(Epoch 4 / 3) train acc: 0.669000; val_acc: 0.601000\n",
      "(Iteration 201 / 573) loss: 1.050151\n",
      "(Iteration 301 / 573) loss: 1.030167\n",
      "(Epoch 5 / 3) train acc: 0.676000; val_acc: 0.620000\n",
      "(Iteration 401 / 573) loss: 0.996345\n",
      "(Iteration 501 / 573) loss: 0.950322\n",
      "(Epoch 6 / 3) train acc: 0.698000; val_acc: 0.633000\n",
      "(Iteration 1 / 573) loss: 0.841176\n",
      "(Epoch 6 / 3) train acc: 0.708000; val_acc: 0.628000\n",
      "(Iteration 101 / 573) loss: 0.849361\n",
      "(Epoch 7 / 3) train acc: 0.723000; val_acc: 0.661000\n",
      "(Iteration 201 / 573) loss: 0.764859\n",
      "(Iteration 301 / 573) loss: 0.970635\n",
      "(Epoch 8 / 3) train acc: 0.738000; val_acc: 0.657000\n",
      "(Iteration 401 / 573) loss: 0.938424\n",
      "(Iteration 501 / 573) loss: 0.869522\n",
      "(Epoch 9 / 3) train acc: 0.752000; val_acc: 0.647000\n",
      "val acc: 0.661\n",
      "test acc: 0.648\n"
     ]
    },
    {
     "data": {
      "image/png": "[encoded data removed]",
      "text/plain": [
       "<matplotlib.figure.Figure at 0x7f21ad6a72e8>"
      ]
     },
     "metadata": {},
     "output_type": "display_data"
    }
   ],
   "source": [
    "# ================================================================ #\n",
    "# YOUR CODE HERE:\n",
    "#   Implement a CNN to achieve greater than 65% validation accuracy\n",
    "#   on CIFAR-10.\n",
    "# ================================================================ #\n",
    "\n",
    "model = ThreeLayerConvNet(weight_scale=0.001, hidden_dim=512, reg=0.001)\n",
    "\n",
    "solver = Solver(model, data,\n",
    "                num_epochs=3, batch_size=256,\n",
    "                update_rule='adam',\n",
    "                optim_config={\n",
    "                  'learning_rate': 1e-3,\n",
    "                },\n",
    "                verbose=True, print_every=100)\n",
    "solver.train()\n",
    "\n",
    "solver.optim_config = {'learning_rate':1e-4}\n",
    "solver.lr_decay=0.95\n",
    "solver.train()\n",
    "\n",
    "solver.optim_config = {'learning_rate':5e-5}\n",
    "solver.lr_decay=0.95\n",
    "solver.train()\n",
    "\n",
    "plt.plot(solver.loss_history)\n",
    "\n",
    "y_val_pred = np.argmax(model.loss(data['X_val']), axis = 1)\n",
    "val_acc = np.mean(y_val_pred == data['y_val'])\n",
    "y_test_pred = np.argmax(model.loss(data['X_test']), axis = 1)\n",
    "test_acc = np.mean(y_test_pred == data['y_test'])\n",
    "print('val acc: {}'.format(val_acc))\n",
    "print('test acc: {}'.format(test_acc))\n",
    "\n",
    "# ================================================================ #\n",
    "# END YOUR CODE HERE\n",
    "# ================================================================ #\n"
   ]
  },
  {
   "cell_type": "code",
   "execution_count": null,
   "metadata": {},
   "outputs": [],
   "source": []
  }
 ],
 "metadata": {
  "kernelspec": {
   "display_name": "Python 3",
   "language": "python",
   "name": "python3"
  },
  "language_info": {
   "codemirror_mode": {
    "name": "ipython",
    "version": 3
   },
   "file_extension": ".py",
   "mimetype": "text/x-python",
   "name": "python",
   "nbconvert_exporter": "python",
   "pygments_lexer": "ipython3",
   "version": "3.6.3"
  }
 },
 "nbformat": 4,
 "nbformat_minor": 2
}
