{
 "cells": [
  {
   "cell_type": "markdown",
   "metadata": {},
   "source": [
    "## This is the softmax workbook for ECE 239AS Assignment #2\n",
    "\n",
    "Please follow the notebook linearly to implement a softmax classifier.\n",
    "\n",
    "Please print out the workbook entirely when completed.\n",
    "\n",
    "We thank Serena Yeung & Justin Johnson for permission to use code written for the CS 231n class (cs231n.stanford.edu).  These are the functions in the cs231n folders and code in the jupyer notebook to preprocess and show the images.  The classifiers used are based off of code prepared for CS 231n as well.\n",
    "\n",
    "The goal of this workbook is to give you experience with training a softmax classifier."
   ]
  },
  {
   "cell_type": "code",
   "execution_count": 1,
   "metadata": {},
   "outputs": [],
   "source": [
    "import random\n",
    "import numpy as np\n",
    "from cs231n.data_utils import load_CIFAR10\n",
    "import matplotlib.pyplot as plt\n",
    "\n",
    "%matplotlib inline\n",
    "%load_ext autoreload\n",
    "%autoreload 2"
   ]
  },
  {
   "cell_type": "code",
   "execution_count": 2,
   "metadata": {
    "scrolled": true
   },
   "outputs": [
    {
     "name": "stdout",
     "output_type": "stream",
     "text": [
      "Train data shape:  (49000, 3073)\n",
      "Train labels shape:  (49000,)\n",
      "Validation data shape:  (1000, 3073)\n",
      "Validation labels shape:  (1000,)\n",
      "Test data shape:  (1000, 3073)\n",
      "Test labels shape:  (1000,)\n",
      "dev data shape:  (500, 3073)\n",
      "dev labels shape:  (500,)\n"
     ]
    }
   ],
   "source": [
    "def get_CIFAR10_data(num_training=49000, num_validation=1000, num_test=1000, num_dev=500):\n",
    "    \"\"\"\n",
    "    Load the CIFAR-10 dataset from disk and perform preprocessing to prepare\n",
    "    it for the linear classifier. These are the same steps as we used for the\n",
    "    SVM, but condensed to a single function.  \n",
    "    \"\"\"\n",
    "    # Load the raw CIFAR-10 data\n",
    "    cifar10_dir = 'cifar-10-batches-py'\n",
    "    X_train, y_train, X_test, y_test = load_CIFAR10(cifar10_dir)\n",
    "    \n",
    "    # subsample the data\n",
    "    mask = list(range(num_training, num_training + num_validation))\n",
    "    X_val = X_train[mask]\n",
    "    y_val = y_train[mask]\n",
    "    mask = list(range(num_training))\n",
    "    X_train = X_train[mask]\n",
    "    y_train = y_train[mask]\n",
    "    mask = list(range(num_test))\n",
    "    X_test = X_test[mask]\n",
    "    y_test = y_test[mask]\n",
    "    mask = np.random.choice(num_training, num_dev, replace=False)\n",
    "    X_dev = X_train[mask]\n",
    "    y_dev = y_train[mask]\n",
    "    \n",
    "    # Preprocessing: reshape the image data into rows\n",
    "    X_train = np.reshape(X_train, (X_train.shape[0], -1))\n",
    "    X_val = np.reshape(X_val, (X_val.shape[0], -1))\n",
    "    X_test = np.reshape(X_test, (X_test.shape[0], -1))\n",
    "    X_dev = np.reshape(X_dev, (X_dev.shape[0], -1))\n",
    "    \n",
    "    # Normalize the data: subtract the mean image\n",
    "    mean_image = np.mean(X_train, axis = 0)\n",
    "    X_train -= mean_image\n",
    "    X_val -= mean_image\n",
    "    X_test -= mean_image\n",
    "    X_dev -= mean_image\n",
    "    \n",
    "    # add bias dimension and transform into columns\n",
    "    X_train = np.hstack([X_train, np.ones((X_train.shape[0], 1))])\n",
    "    X_val = np.hstack([X_val, np.ones((X_val.shape[0], 1))])\n",
    "    X_test = np.hstack([X_test, np.ones((X_test.shape[0], 1))])\n",
    "    X_dev = np.hstack([X_dev, np.ones((X_dev.shape[0], 1))])\n",
    "    \n",
    "    return X_train, y_train, X_val, y_val, X_test, y_test, X_dev, y_dev\n",
    "\n",
    "\n",
    "# Invoke the above function to get our data.\n",
    "X_train, y_train, X_val, y_val, X_test, y_test, X_dev, y_dev = get_CIFAR10_data()\n",
    "print('Train data shape: ', X_train.shape)\n",
    "print('Train labels shape: ', y_train.shape)\n",
    "print('Validation data shape: ', X_val.shape)\n",
    "print('Validation labels shape: ', y_val.shape)\n",
    "print('Test data shape: ', X_test.shape)\n",
    "print('Test labels shape: ', y_test.shape)\n",
    "print('dev data shape: ', X_dev.shape)\n",
    "print('dev labels shape: ', y_dev.shape)"
   ]
  },
  {
   "cell_type": "markdown",
   "metadata": {},
   "source": [
    "## Training a softmax classifier.\n",
    "\n",
    "The following cells will take you through building a softmax classifier.  You will implement its loss function, then subsequently train it with gradient descent.  Finally, you will choose the learning rate of gradient descent to optimize its classification performance."
   ]
  },
  {
   "cell_type": "code",
   "execution_count": 15,
   "metadata": {},
   "outputs": [],
   "source": [
    "from nndl import Softmax"
   ]
  },
  {
   "cell_type": "code",
   "execution_count": 16,
   "metadata": {},
   "outputs": [],
   "source": [
    "# Declare an instance of the Softmax class.  \n",
    "# Weights are initialized to a random value.\n",
    "# Note, to keep people's first solutions consistent, we are going to use a random seed.\n",
    "\n",
    "np.random.seed(1)\n",
    "\n",
    "num_classes = len(np.unique(y_train))\n",
    "num_features = X_train.shape[1]\n",
    "\n",
    "softmax = Softmax(dims=[num_classes, num_features])"
   ]
  },
  {
   "cell_type": "markdown",
   "metadata": {},
   "source": [
    "#### Softmax loss"
   ]
  },
  {
   "cell_type": "code",
   "execution_count": 5,
   "metadata": {},
   "outputs": [],
   "source": [
    "## Implement the loss function of the softmax using a for loop over\n",
    "#  the number of examples\n",
    "\n",
    "loss = softmax.loss(X_train, y_train)"
   ]
  },
  {
   "cell_type": "code",
   "execution_count": 6,
   "metadata": {},
   "outputs": [
    {
     "name": "stdout",
     "output_type": "stream",
     "text": [
      "2.327760702804897\n"
     ]
    }
   ],
   "source": [
    "print(loss)"
   ]
  },
  {
   "cell_type": "markdown",
   "metadata": {},
   "source": [
    "## Question: \n",
    "\n",
    "You'll notice the loss returned by the softmax is about 2.3 (if implemented correctly).  Why does this value make sense?"
   ]
  },
  {
   "cell_type": "markdown",
   "metadata": {},
   "source": [
    "## Answer:\n",
    "\n",
    "When we initialize the weight matrix, it is randomly selected with unifrom matrix, which means the predicted probability of each class is also uniform distribution and approximatly equals 1/10. That means the cross entropy for each example is -log(0.1), which is 2.3025 (approximatly equals to the loss)."
   ]
  },
  {
   "cell_type": "markdown",
   "metadata": {},
   "source": [
    "#### Softmax gradient"
   ]
  },
  {
   "cell_type": "code",
   "execution_count": 7,
   "metadata": {
    "scrolled": false
   },
   "outputs": [
    {
     "name": "stdout",
     "output_type": "stream",
     "text": [
      "numerical: 0.811560 analytic: 0.811560, relative error: 1.287581e-09\n",
      "numerical: 0.133042 analytic: 0.133042, relative error: 4.391477e-08\n",
      "numerical: 1.459821 analytic: 1.459821, relative error: 1.281714e-10\n",
      "numerical: 0.705703 analytic: 0.705703, relative error: 1.394274e-08\n",
      "numerical: 0.516723 analytic: 0.516723, relative error: 8.749868e-08\n",
      "numerical: 1.715495 analytic: 1.715495, relative error: 1.919600e-08\n",
      "numerical: -0.336979 analytic: -0.336979, relative error: 1.138216e-07\n",
      "numerical: 0.526789 analytic: 0.526789, relative error: 1.425703e-08\n",
      "numerical: 0.398616 analytic: 0.398616, relative error: 1.296090e-08\n",
      "numerical: -3.990390 analytic: -3.990390, relative error: 1.198945e-08\n"
     ]
    }
   ],
   "source": [
    "## Calculate the gradient of the softmax loss in the Softmax class.\n",
    "# For convenience, we'll write one function that computes the loss\n",
    "#   and gradient together, softmax.loss_and_grad(X, y)\n",
    "# You may copy and paste your loss code from softmax.loss() here, and then\n",
    "#   use the appropriate intermediate values to calculate the gradient.\n",
    "\n",
    "loss, grad = softmax.loss_and_grad(X_dev,y_dev)\n",
    "\n",
    "# Compare your gradient to a gradient check we wrote. \n",
    "# You should see relative gradient errors on the order of 1e-07 or less if you implemented the gradient correctly.\n",
    "softmax.grad_check_sparse(X_dev, y_dev, grad)"
   ]
  },
  {
   "cell_type": "markdown",
   "metadata": {},
   "source": [
    "## A vectorized version of Softmax\n",
    "\n",
    "To speed things up, we will vectorize the loss and gradient calculations.  This will be helpful for stochastic gradient descent."
   ]
  },
  {
   "cell_type": "code",
   "execution_count": 8,
   "metadata": {},
   "outputs": [],
   "source": [
    "import time"
   ]
  },
  {
   "cell_type": "code",
   "execution_count": 9,
   "metadata": {},
   "outputs": [
    {
     "name": "stdout",
     "output_type": "stream",
     "text": [
      "Normal loss / grad_norm: 2.30447519497518 / 331.2038773428697 computed in 0.16248798370361328s\n",
      "Vectorized loss / grad: 2.3044751949751823 / 331.20387734286965 computed in 0.02423405647277832s\n",
      "difference in loss / grad: -2.220446049250313e-15 /2.2241223160084674e-13 \n"
     ]
    }
   ],
   "source": [
    "## Implement softmax.fast_loss_and_grad which calculates the loss and gradient\n",
    "#    WITHOUT using any for loops.  \n",
    "\n",
    "# Standard loss and gradient\n",
    "tic = time.time()\n",
    "loss, grad = softmax.loss_and_grad(X_dev, y_dev)\n",
    "toc = time.time()\n",
    "print('Normal loss / grad_norm: {} / {} computed in {}s'.format(loss, np.linalg.norm(grad, 'fro'), toc - tic))\n",
    "\n",
    "tic = time.time()\n",
    "loss_vectorized, grad_vectorized = softmax.fast_loss_and_grad(X_dev, y_dev)\n",
    "toc = time.time()\n",
    "print('Vectorized loss / grad: {} / {} computed in {}s'.format(loss_vectorized, np.linalg.norm(grad_vectorized, 'fro'), toc - tic))\n",
    "\n",
    "# The losses should match but your vectorized implementation should be much faster.\n",
    "print('difference in loss / grad: {} /{} '.format(loss - loss_vectorized, np.linalg.norm(grad - grad_vectorized)))\n",
    "\n",
    "# You should notice a speedup with the same output."
   ]
  },
  {
   "cell_type": "markdown",
   "metadata": {},
   "source": [
    "## Stochastic gradient descent\n",
    "\n",
    "We now implement stochastic gradient descent.  This uses the same principles of gradient descent we discussed in class, however, it calculates the gradient by only using examples from a subset of the training set (so each gradient calculation is faster)."
   ]
  },
  {
   "cell_type": "markdown",
   "metadata": {},
   "source": [
    "## Question:\n",
    "\n",
    "How should the softmax gradient descent training step differ from the svm training step, if at all?"
   ]
  },
  {
   "cell_type": "markdown",
   "metadata": {},
   "source": [
    "## Answer:\n",
    "\n",
    "The gradient descent training step of softmax and svm are quiet similar, except they use different loss functions."
   ]
  },
  {
   "cell_type": "code",
   "execution_count": 10,
   "metadata": {
    "scrolled": false
   },
   "outputs": [
    {
     "name": "stdout",
     "output_type": "stream",
     "text": [
      "iteration 0 / 1500: loss 2.3365926606637544\n",
      "iteration 100 / 1500: loss 2.0557222613850827\n",
      "iteration 200 / 1500: loss 2.0357745120662813\n",
      "iteration 300 / 1500: loss 1.9813348165609888\n",
      "iteration 400 / 1500: loss 1.9583142443981614\n",
      "iteration 500 / 1500: loss 1.862265307354135\n",
      "iteration 600 / 1500: loss 1.8532611454359382\n",
      "iteration 700 / 1500: loss 1.835306222372583\n",
      "iteration 800 / 1500: loss 1.829389246882764\n",
      "iteration 900 / 1500: loss 1.8992158530357484\n",
      "iteration 1000 / 1500: loss 1.97835035402523\n",
      "iteration 1100 / 1500: loss 1.8470797913532633\n",
      "iteration 1200 / 1500: loss 1.8411450268664082\n",
      "iteration 1300 / 1500: loss 1.7910402495792102\n",
      "iteration 1400 / 1500: loss 1.8705803029382257\n",
      "That took 12.624136924743652s\n"
     ]
    },
    {
     "data": {
      "image/png": "[encoded data removed]",
      "text/plain": [
       "<matplotlib.figure.Figure at 0x114f038d0>"
      ]
     },
     "metadata": {},
     "output_type": "display_data"
    }
   ],
   "source": [
    "# Implement softmax.train() by filling in the code to extract a batch of data\n",
    "# and perform the gradient step.\n",
    "import time\n",
    "\n",
    "\n",
    "tic = time.time()\n",
    "loss_hist = softmax.train(X_train, y_train, learning_rate=1e-7, num_iters=1500, verbose=True)\n",
    "toc = time.time()\n",
    "print('That took {}s'.format(toc - tic))\n",
    "\n",
    "plt.plot(loss_hist)\n",
    "plt.xlabel('Iteration number')\n",
    "plt.ylabel('Loss value')\n",
    "plt.show()"
   ]
  },
  {
   "cell_type": "markdown",
   "metadata": {},
   "source": [
    "### Evaluate the performance of the trained softmax classifier on the validation data."
   ]
  },
  {
   "cell_type": "code",
   "execution_count": 11,
   "metadata": {},
   "outputs": [
    {
     "name": "stdout",
     "output_type": "stream",
     "text": [
      "training accuracy: 0.3811428571428571\n",
      "validation accuracy: 0.398\n"
     ]
    }
   ],
   "source": [
    "## Implement softmax.predict() and use it to compute the training and testing error.\n",
    "\n",
    "y_train_pred = softmax.predict(X_train)\n",
    "print('training accuracy: {}'.format(np.mean(np.equal(y_train,y_train_pred), )))\n",
    "y_val_pred = softmax.predict(X_val)\n",
    "print('validation accuracy: {}'.format(np.mean(np.equal(y_val, y_val_pred)), ))"
   ]
  },
  {
   "cell_type": "markdown",
   "metadata": {},
   "source": [
    "## Optimize the softmax classifier\n",
    "\n",
    "You may copy and paste your optimization code from the SVM here."
   ]
  },
  {
   "cell_type": "code",
   "execution_count": 12,
   "metadata": {},
   "outputs": [
    {
     "data": {
      "text/plain": [
       "2.220446049250313e-16"
      ]
     },
     "execution_count": 12,
     "metadata": {},
     "output_type": "execute_result"
    }
   ],
   "source": [
    "np.finfo(float).eps"
   ]
  },
  {
   "cell_type": "code",
   "execution_count": 18,
   "metadata": {
    "scrolled": false
   },
   "outputs": [
    {
     "name": "stdout",
     "output_type": "stream",
     "text": [
      "iteration 0 / 1500: loss 2.3272060846682603\n",
      "iteration 100 / 1500: loss 2.070796610909686\n",
      "iteration 200 / 1500: loss 1.9919267217995216\n",
      "iteration 300 / 1500: loss 1.935776136240207\n",
      "iteration 400 / 1500: loss 1.9322690223589751\n",
      "iteration 500 / 1500: loss 1.8177236818686637\n",
      "iteration 600 / 1500: loss 1.853576327586231\n",
      "iteration 700 / 1500: loss 1.8976491006525829\n",
      "iteration 800 / 1500: loss 2.0080505025566153\n",
      "iteration 900 / 1500: loss 1.7555417448535748\n",
      "iteration 1000 / 1500: loss 1.8163058236132195\n",
      "iteration 1100 / 1500: loss 1.823860682516186\n",
      "iteration 1200 / 1500: loss 1.7434754112412105\n",
      "iteration 1300 / 1500: loss 1.779670340476944\n",
      "iteration 1400 / 1500: loss 1.794696055405351\n",
      "iteration 0 / 1500: loss 2.399650633497909\n",
      "iteration 100 / 1500: loss 2.082333781114565\n",
      "iteration 200 / 1500: loss 2.0139932119600807\n",
      "iteration 300 / 1500: loss 1.9194168504289868\n",
      "iteration 400 / 1500: loss 1.9598471567748568\n",
      "iteration 500 / 1500: loss 1.8612610643110696\n",
      "iteration 600 / 1500: loss 1.8761521312750173\n",
      "iteration 700 / 1500: loss 1.8858467793551392\n",
      "iteration 800 / 1500: loss 1.867774690941385\n",
      "iteration 900 / 1500: loss 1.7990959203152037\n",
      "iteration 1000 / 1500: loss 1.7842631882822162\n",
      "iteration 1100 / 1500: loss 1.8972231910193347\n",
      "iteration 1200 / 1500: loss 1.8884990834566542\n",
      "iteration 1300 / 1500: loss 1.8264573773984498\n",
      "iteration 1400 / 1500: loss 1.8850009313051936\n",
      "iteration 0 / 1500: loss 2.2836860926612497\n",
      "iteration 100 / 1500: loss 2.0732015389645313\n",
      "iteration 200 / 1500: loss 1.9665041886832986\n",
      "iteration 300 / 1500: loss 1.9841582982965655\n",
      "iteration 400 / 1500: loss 1.8684518073284777\n",
      "iteration 500 / 1500: loss 1.8904762898800527\n",
      "iteration 600 / 1500: loss 1.8647961303110234\n",
      "iteration 700 / 1500: loss 1.8603784936579049\n",
      "iteration 800 / 1500: loss 1.8107137174881307\n",
      "iteration 900 / 1500: loss 1.9169640626981441\n",
      "iteration 1000 / 1500: loss 1.8990193137252378\n",
      "iteration 1100 / 1500: loss 1.7762519200363074\n",
      "iteration 1200 / 1500: loss 1.7969519116619148\n",
      "iteration 1300 / 1500: loss 1.9288064328429173\n",
      "iteration 1400 / 1500: loss 1.891111284585936\n",
      "iteration 0 / 1500: loss 2.380294361936287\n",
      "iteration 100 / 1500: loss 2.025975205231494\n",
      "iteration 200 / 1500: loss 1.9567470150595567\n",
      "iteration 300 / 1500: loss 1.9591635276318708\n",
      "iteration 400 / 1500: loss 1.9388790642501228\n",
      "iteration 500 / 1500: loss 1.9567058535418445\n",
      "iteration 600 / 1500: loss 1.9087589853999642\n",
      "iteration 700 / 1500: loss 1.7656864437347903\n",
      "iteration 800 / 1500: loss 1.8239893814873807\n",
      "iteration 900 / 1500: loss 1.83736670914571\n",
      "iteration 1000 / 1500: loss 1.8477694141859324\n",
      "iteration 1100 / 1500: loss 1.7589908302611759\n",
      "iteration 1200 / 1500: loss 1.832937185200401\n",
      "iteration 1300 / 1500: loss 1.8797717339767213\n",
      "iteration 1400 / 1500: loss 1.8365446033801758\n",
      "iteration 0 / 1500: loss 2.3967835046962573\n",
      "iteration 100 / 1500: loss 2.07412911255947\n",
      "iteration 200 / 1500: loss 1.9246277011926032\n",
      "iteration 300 / 1500: loss 1.919897092634978\n",
      "iteration 400 / 1500: loss 1.9137650941735853\n",
      "iteration 500 / 1500: loss 1.837791526726139\n",
      "iteration 600 / 1500: loss 1.8759851559854654\n",
      "iteration 700 / 1500: loss 1.944402430210963\n",
      "iteration 800 / 1500: loss 1.9419793530143705\n",
      "iteration 900 / 1500: loss 1.852504269389292\n",
      "iteration 1000 / 1500: loss 1.8074617965750626\n",
      "iteration 1100 / 1500: loss 1.8330311218248898\n",
      "iteration 1200 / 1500: loss 1.8832978425738742\n",
      "iteration 1300 / 1500: loss 1.9000572355646816\n",
      "iteration 1400 / 1500: loss 1.8083039904944855\n",
      "iteration 0 / 1500: loss 2.3808535045224577\n",
      "iteration 100 / 1500: loss 2.107601110683926\n",
      "iteration 200 / 1500: loss 1.9966177146588604\n",
      "iteration 300 / 1500: loss 1.9344984740359212\n",
      "iteration 400 / 1500: loss 2.004279347315757\n",
      "iteration 500 / 1500: loss 1.880587355757405\n",
      "iteration 600 / 1500: loss 1.8765466265432706\n",
      "iteration 700 / 1500: loss 1.9495325942204504\n",
      "iteration 800 / 1500: loss 1.8863211903554689\n",
      "iteration 900 / 1500: loss 1.8691306201801523\n",
      "iteration 1000 / 1500: loss 1.8156389567630997\n",
      "iteration 1100 / 1500: loss 1.8322619332223946\n",
      "iteration 1200 / 1500: loss 1.8646308166701056\n",
      "iteration 1300 / 1500: loss 1.7923621026437797\n",
      "iteration 1400 / 1500: loss 1.7711165135893998\n",
      "iteration 0 / 1500: loss 2.3127280324831143\n",
      "iteration 100 / 1500: loss 2.1108253056362094\n",
      "iteration 200 / 1500: loss 1.922413348891853\n",
      "iteration 300 / 1500: loss 1.9551410863272378\n",
      "iteration 400 / 1500: loss 1.8837385407762315\n",
      "iteration 500 / 1500: loss 1.9832562488108818\n",
      "iteration 600 / 1500: loss 1.9172198399334284\n",
      "iteration 700 / 1500: loss 1.8146996064549195\n",
      "iteration 800 / 1500: loss 1.8567724931320257\n",
      "iteration 900 / 1500: loss 1.8341454511516384\n",
      "iteration 1000 / 1500: loss 1.912205608485212\n",
      "iteration 1100 / 1500: loss 1.8353783193172601\n",
      "iteration 1200 / 1500: loss 1.7719837964860898\n",
      "iteration 1300 / 1500: loss 1.9082754021447406\n",
      "iteration 1400 / 1500: loss 1.8205917945831402\n",
      "iteration 0 / 1500: loss 2.3754248781364242\n",
      "iteration 100 / 1500: loss 1.9743661041262606\n",
      "iteration 200 / 1500: loss 2.048134762258373\n",
      "iteration 300 / 1500: loss 1.9560782949469189\n",
      "iteration 400 / 1500: loss 1.9622654399315254\n",
      "iteration 500 / 1500: loss 1.900246755563637\n",
      "iteration 600 / 1500: loss 1.836825034874451\n",
      "iteration 700 / 1500: loss 1.8328484184347553\n",
      "iteration 800 / 1500: loss 1.8166885359952447\n",
      "iteration 900 / 1500: loss 1.8327129128940802\n",
      "iteration 1000 / 1500: loss 1.8947026550601702\n",
      "iteration 1100 / 1500: loss 1.8509513965837505\n",
      "iteration 1200 / 1500: loss 1.7946688653206004\n",
      "iteration 1300 / 1500: loss 1.8852880360553526\n",
      "iteration 1400 / 1500: loss 1.8699292698147556\n",
      "iteration 0 / 1500: loss 2.310167987131231\n",
      "iteration 100 / 1500: loss 2.0916493515902816\n",
      "iteration 200 / 1500: loss 1.985229152962555\n",
      "iteration 300 / 1500: loss 1.947457299714762\n",
      "iteration 400 / 1500: loss 1.854624256720622\n",
      "iteration 500 / 1500: loss 1.9371431149247957\n",
      "iteration 600 / 1500: loss 1.8879816913972194\n",
      "iteration 700 / 1500: loss 1.897933620595165\n",
      "iteration 800 / 1500: loss 1.8395362092660688\n",
      "iteration 900 / 1500: loss 1.8534898380627767\n",
      "iteration 1000 / 1500: loss 1.757107521967238\n",
      "iteration 1100 / 1500: loss 1.780101252546394\n",
      "iteration 1200 / 1500: loss 2.011816614654444\n",
      "iteration 1300 / 1500: loss 1.801069565822652\n",
      "iteration 1400 / 1500: loss 1.785954714700731\n",
      "iteration 0 / 1500: loss 2.3785440417293584\n",
      "iteration 100 / 1500: loss 2.0309406586769727\n",
      "iteration 200 / 1500: loss 2.046097570570162\n",
      "iteration 300 / 1500: loss 1.9547911090477745\n",
      "iteration 400 / 1500: loss 1.881122802715385\n",
      "iteration 500 / 1500: loss 1.9273362607981732\n",
      "iteration 600 / 1500: loss 1.8009238188708048\n",
      "iteration 700 / 1500: loss 1.992334418163062\n",
      "iteration 800 / 1500: loss 1.8996208860930377\n",
      "iteration 900 / 1500: loss 1.9668866902512852\n",
      "iteration 1000 / 1500: loss 1.918819828893521\n",
      "iteration 1100 / 1500: loss 1.767717585912552\n",
      "iteration 1200 / 1500: loss 1.8672840353189446\n",
      "iteration 1300 / 1500: loss 1.75686982205351\n",
      "iteration 1400 / 1500: loss 1.7954653444103783\n",
      "iteration 0 / 1500: loss 2.391191346907784\n",
      "iteration 100 / 1500: loss 2.0525481343512793\n",
      "iteration 200 / 1500: loss 1.9409024306996934\n",
      "iteration 300 / 1500: loss 1.8442715443651094\n",
      "iteration 400 / 1500: loss 1.945517394692017\n",
      "iteration 500 / 1500: loss 1.9167191087258555\n",
      "iteration 600 / 1500: loss 1.8954352751160084\n",
      "iteration 700 / 1500: loss 1.9835014549309242\n",
      "iteration 800 / 1500: loss 1.8087163590756155\n",
      "iteration 900 / 1500: loss 1.7740711502047677\n",
      "iteration 1000 / 1500: loss 1.7866340276503307\n",
      "iteration 1100 / 1500: loss 1.8619213493129003\n",
      "iteration 1200 / 1500: loss 1.7636998520502418\n",
      "iteration 1300 / 1500: loss 1.836964348381631\n",
      "iteration 1400 / 1500: loss 1.7968523975162392\n",
      "iteration 0 / 1500: loss 2.403546679943377\n",
      "iteration 100 / 1500: loss 2.0886435348921655\n",
      "iteration 200 / 1500: loss 2.035338086157953\n",
      "iteration 300 / 1500: loss 1.9264723617469337\n",
      "iteration 400 / 1500: loss 1.9093646473530494\n",
      "iteration 500 / 1500: loss 1.8533837831347268\n",
      "iteration 600 / 1500: loss 1.8957682074342868\n",
      "iteration 700 / 1500: loss 1.8343423507911565\n",
      "iteration 800 / 1500: loss 1.8922249503198645\n",
      "iteration 900 / 1500: loss 1.8433992449105807\n",
      "iteration 1000 / 1500: loss 1.8609846529153213\n",
      "iteration 1100 / 1500: loss 1.8463351422051681\n",
      "iteration 1200 / 1500: loss 1.8623092534402916\n",
      "iteration 1300 / 1500: loss 1.7572522715167924\n"
     ]
    },
    {
     "name": "stdout",
     "output_type": "stream",
     "text": [
      "iteration 1400 / 1500: loss 1.7939004361352382\n",
      "iteration 0 / 1500: loss 2.315583636919492\n",
      "iteration 100 / 1500: loss 1.9705528812912438\n",
      "iteration 200 / 1500: loss 2.0148606160089817\n",
      "iteration 300 / 1500: loss 1.9910339826950756\n",
      "iteration 400 / 1500: loss 1.9873403589290382\n",
      "iteration 500 / 1500: loss 1.8810894485509322\n",
      "iteration 600 / 1500: loss 1.9467590137739097\n",
      "iteration 700 / 1500: loss 1.860571926293982\n",
      "iteration 800 / 1500: loss 1.7779461475601728\n",
      "iteration 900 / 1500: loss 1.8196869376462304\n",
      "iteration 1000 / 1500: loss 1.9370261157711133\n",
      "iteration 1100 / 1500: loss 1.7892284619816894\n",
      "iteration 1200 / 1500: loss 1.8701940734050146\n",
      "iteration 1300 / 1500: loss 1.813007591447041\n",
      "iteration 1400 / 1500: loss 1.9549175867075406\n",
      "[0.407, 0.378, 0.387, 0.391, 0.386, 0.387, 0.397, 0.386, 0.387, 0.398, 0.381, 0.399, 0.376]\n",
      "The best learning rate is: 0.005 , with validation accuracies: 0.407\n"
     ]
    }
   ],
   "source": [
    "# ================================================================ #\n",
    "# YOUR CODE HERE:\n",
    "#   Train the Softmax classifier with different learning rates and \n",
    "#     evaluate on the validation data.\n",
    "#   Report:\n",
    "#     - The best learning rate of the ones you tested.  \n",
    "#     - The best validation accuracy corresponding to the best validation error.\n",
    "#\n",
    "#   Select the SVM that achieved the best validation error and report\n",
    "#     its error rate on the test set.\n",
    "# ================================================================ #\n",
    "\n",
    "learning_rates = [5e-3, 5.5e-3, 6e-3, 6.5e-3, 7e-3, 7.5e-3, 8e-3, 8.3e-3, 8.5e-3, 9.5e-3, 1e-4, 5e-4, 1e-5]\n",
    "training_accuracies = []\n",
    "validation_accuracies = []\n",
    "\n",
    "for lr_rate in learning_rates:\n",
    "    loss_hist = softmax.train(X_train, y_train, learning_rate=1e-7, num_iters=1500, verbose=True)\n",
    "    y_train_pred = softmax.predict(X_train)\n",
    "    y_val_pred = softmax.predict(X_val)\n",
    "    training_accuracies.append(np.mean(np.equal(y_train,y_train_pred)))\n",
    "    validation_accuracies.append(np.mean(np.equal(y_val, y_val_pred)))\n",
    "\n",
    "(best_val_acc,i) = max((v,i) for i,v in enumerate(validation_accuracies))\n",
    "best_lr_rate = learning_rates[i]\n",
    "\n",
    "#print(validation_accuracies)\n",
    "print('The best learning rate is: {} , with validation accuracies: {}'.format(best_lr_rate, best_val_acc))\n",
    "\n",
    "# ================================================================ #\n",
    "# END YOUR CODE HERE\n",
    "# ================================================================ #\n"
   ]
  },
  {
   "cell_type": "code",
   "execution_count": null,
   "metadata": {},
   "outputs": [],
   "source": []
  }
 ],
 "metadata": {
  "kernelspec": {
   "display_name": "Python 3",
   "language": "python",
   "name": "python3"
  },
  "language_info": {
   "codemirror_mode": {
    "name": "ipython",
    "version": 3
   },
   "file_extension": ".py",
   "mimetype": "text/x-python",
   "name": "python",
   "nbconvert_exporter": "python",
   "pygments_lexer": "ipython3",
   "version": "3.6.4"
  }
 },
 "nbformat": 4,
 "nbformat_minor": 2
}
